{
 "cells": [
  {
   "cell_type": "code",
   "execution_count": 59,
   "metadata": {},
   "outputs": [
    {
     "name": "stdout",
     "output_type": "stream",
     "text": [
      "[[1 7]\n",
      " [2 1]\n",
      " [3 2]]\n"
     ]
    }
   ],
   "source": [
    "import numpy as np\n",
    "#matrix can be thought as the set of vectors\n",
    "P = np.array([[1,7],[2,1],[3,2]])\n",
    "print(P)"
   ]
  },
  {
   "cell_type": "code",
   "execution_count": 60,
   "metadata": {},
   "outputs": [
    {
     "name": "stdout",
     "output_type": "stream",
     "text": [
      "[[ 1  1]\n",
      " [ 1 -1]\n",
      " [ 1  0]]\n"
     ]
    }
   ],
   "source": [
    "Q = np.array([[1,1],[1,-1],[1,0]])\n",
    "print(Q)"
   ]
  },
  {
   "cell_type": "code",
   "execution_count": 61,
   "metadata": {},
   "outputs": [
    {
     "name": "stdout",
     "output_type": "stream",
     "text": [
      "P : [[1 7]\n",
      " [2 1]\n",
      " [3 2]]\n",
      "Q :  [[ 1  1]\n",
      " [ 1 -1]\n",
      " [ 1  0]]\n"
     ]
    }
   ],
   "source": [
    "C1 = np.add(P,Q)\n",
    "C2 = np.subtract(P,Q)\n",
    "print(\"P :\",P)\n",
    "print(\"Q : \",Q)"
   ]
  },
  {
   "cell_type": "code",
   "execution_count": 62,
   "metadata": {},
   "outputs": [
    {
     "name": "stdout",
     "output_type": "stream",
     "text": [
      "[[8 3 8]\n",
      " [3 6 3]\n",
      " [5 9 5]]\n"
     ]
    }
   ],
   "source": [
    "R = np.array([[1,3,1],[1,0,1]])\n",
    "\n",
    "C3 = np.dot(P,R)\n",
    "print(C3)"
   ]
  },
  {
   "cell_type": "code",
   "execution_count": 63,
   "metadata": {},
   "outputs": [
    {
     "name": "stdout",
     "output_type": "stream",
     "text": [
      "0.0\n"
     ]
    }
   ],
   "source": [
    "#Determinant\n",
    "det = np.linalg.det(C3)\n",
    "print(det)\n",
    "#determinant of C3=0 hence matrix is singular hence it cannot have inverse\n",
    "#S2=np.linalg.inv(C3) # so it will give error"
   ]
  },
  {
   "cell_type": "code",
   "execution_count": 64,
   "metadata": {},
   "outputs": [
    {
     "name": "stdout",
     "output_type": "stream",
     "text": [
      "5.000000000000001\n",
      "[[ 0.6  0.2]\n",
      " [-0.4  0.2]]\n"
     ]
    }
   ],
   "source": [
    "M = np.array([[1,-1],[2,3]])\n",
    "print(np.linalg.det(M)) #so its determinant is not equal to zero,hence its inverse can be determined\n",
    "\n",
    "print(np.linalg.inv(M))"
   ]
  }
 ],
 "metadata": {
  "kernelspec": {
   "display_name": "Python 3",
   "language": "python",
   "name": "python3"
  },
  "language_info": {
   "codemirror_mode": {
    "name": "ipython",
    "version": 3
   },
   "file_extension": ".py",
   "mimetype": "text/x-python",
   "name": "python",
   "nbconvert_exporter": "python",
   "pygments_lexer": "ipython3",
   "version": "3.11.7"
  }
 },
 "nbformat": 4,
 "nbformat_minor": 2
}
